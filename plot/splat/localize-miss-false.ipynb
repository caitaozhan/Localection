{
 "cells": [
  {
   "cell_type": "code",
   "execution_count": 1,
   "metadata": {},
   "outputs": [],
   "source": [
    "import numpy as np\n",
    "import matplotlib.pyplot as plt\n",
    "import pandas as pd\n",
    "import sys\n",
    "import time\n",
    "import random\n",
    "sys.path.append('../..')\n",
    "from select_sensor import SelectSensor\n",
    "from utility import generate_intruders"
   ]
  },
  {
   "cell_type": "code",
   "execution_count": 2,
   "metadata": {},
   "outputs": [],
   "source": [
    "plt.rcParams['font.size'] = 25\n",
    "filename = '{}-{}-{}.txt'"
   ]
  },
  {
   "cell_type": "code",
   "execution_count": 3,
   "metadata": {},
   "outputs": [],
   "source": [
    "mean1 = [] # our-miss\n",
    "mean2 = [] # our-false alarm\n",
    "std1  = []\n",
    "std2  = []\n",
    "\n",
    "num_intru = [1, 3, 5, 7, 10]\n",
    "for num in num_intru:\n",
    "    miss = np.loadtxt(filename.format(num, 'ours', 'miss'), delimiter=',')\n",
    "    false = np.loadtxt(filename.format(num, 'ours', 'false'), delimiter=',')\n",
    "    mean1.append(miss.mean())\n",
    "    std1.append(miss.std())\n",
    "    mean2.append(false.mean())\n",
    "    std2.append(false.std())"
   ]
  },
  {
   "cell_type": "code",
   "execution_count": 4,
   "metadata": {},
   "outputs": [],
   "source": [
    "mean3 = [] # SPLOT-miss\n",
    "mean4 = [] # SPLOT-false\n",
    "std3  = []\n",
    "std4  = []\n",
    "\n",
    "num_intru = [1, 3, 5, 7, 10]\n",
    "for num in num_intru:\n",
    "    miss = np.loadtxt(filename.format(num, 'splot', 'miss'), delimiter=',')\n",
    "    false = np.loadtxt(filename.format(num, 'splot', 'false'), delimiter=',')\n",
    "    mean3.append(miss.mean())\n",
    "    std3.append(miss.std())\n",
    "    mean4.append(false.mean())\n",
    "    std4.append(false.std())"
   ]
  },
  {
   "cell_type": "code",
   "execution_count": 7,
   "metadata": {},
   "outputs": [],
   "source": [
    "mean5 = [] # CLUSTER-miss\n",
    "mean6 = [] # CLUSTER-false\n",
    "std5  = []\n",
    "std6  = []\n",
    "\n",
    "num_intru = [1, 3, 5, 7, 10]\n",
    "for num in num_intru:\n",
    "    miss = np.loadtxt(filename.format(num, 'cluster', 'miss'), delimiter=',')\n",
    "    false = np.loadtxt(filename.format(num, 'cluster', 'false'), delimiter=',')\n",
    "    mean5.append(miss.mean())\n",
    "    std5.append(miss.std())\n",
    "    mean6.append(false.mean())\n",
    "    std6.append(false.std())"
   ]
  },
  {
   "cell_type": "code",
   "execution_count": 8,
   "metadata": {},
   "outputs": [
    {
     "data": {
      "image/png": "[encoded data removed]",
      "text/plain": [
       "<Figure size 864x648 with 1 Axes>"
      ]
     },
     "metadata": {
      "needs_background": "light"
     },
     "output_type": "display_data"
    }
   ],
   "source": [
    "plt.figure(figsize=(12, 9))\n",
    "\n",
    "N     = 5\n",
    "ind   = np.arange(N)    # the x locations for the groups\n",
    "width = 0.24       # the width of the bars: can also be len(x) sequence\n",
    "b     = 'tab:blue'\n",
    "\n",
    "pos1 = ind-width-0.02   # position of algo-1's bar\n",
    "pos2 = ind              # position of algo-2's bar\n",
    "pos3 = ind+width+0.02   # position of algo-3's bar\n",
    "\n",
    "p1 = plt.bar(pos1, mean1, width, color= b,  edgecolor='black', label='Miss')\n",
    "p2 = plt.bar(pos1, mean2, width, color='r', edgecolor='black', bottom=mean1, label='False Alarm')\n",
    "\n",
    "p3 = plt.bar(pos2, mean3, width, color= b,  edgecolor='black')\n",
    "p4 = plt.bar(pos2, mean4, width, color='r', edgecolor='black', bottom=mean3)\n",
    "\n",
    "p5 = plt.bar(pos3, mean5, width, color= b,  edgecolor='black')\n",
    "p6 = plt.bar(pos3, mean6, width, color='r', edgecolor='black', bottom=mean5)\n",
    "\n",
    "minor_pos = np.concatenate((pos1, pos2, pos3))\n",
    "minor_lab = ['OUR']*5 + ['SPLOT']*5 + ['CLUS']*5\n",
    "ax = plt.gca()\n",
    "ax.set_xticks(minor_pos, minor=True)\n",
    "ax.set_xticklabels(minor_lab, minor=True, fontsize=14, rotation=20)\n",
    "\n",
    "plt.xticks(ind, ('1', '3', '5', '7', '10'))\n",
    "plt.xlabel('Varing # of Intruders')\n",
    "ax.tick_params(axis='x', which='major', pad=35)\n",
    "\n",
    "plt.legend()\n",
    "plt.ylabel('Percentage')\n",
    "plt.title('Miss & False Alarm by Algorithms and # of Intruders')\n",
    "plt.savefig('varyIntruder-miss-false.png')"
   ]
  },
  {
   "cell_type": "code",
   "execution_count": null,
   "metadata": {},
   "outputs": [],
   "source": []
  }
 ],
 "metadata": {
  "kernelspec": {
   "display_name": "Python 3",
   "language": "python",
   "name": "python3"
  },
  "language_info": {
   "codemirror_mode": {
    "name": "ipython",
    "version": 3
   },
   "file_extension": ".py",
   "mimetype": "text/x-python",
   "name": "python",
   "nbconvert_exporter": "python",
   "pygments_lexer": "ipython3",
   "version": "3.7.3"
  }
 },
 "nbformat": 4,
 "nbformat_minor": 2
}
